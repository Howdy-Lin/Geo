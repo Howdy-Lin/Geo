{
 "cells": [
  {
   "cell_type": "code",
   "execution_count": 2,
   "id": "bbfb3f79-95e2-4444-b7cf-9b730b759013",
   "metadata": {},
   "outputs": [],
   "source": [
    "import pandas as pd"
   ]
  },
  {
   "cell_type": "code",
   "execution_count": 4,
   "id": "997d3fd3-5b50-4702-b594-76c4dec0e0b0",
   "metadata": {},
   "outputs": [],
   "source": [
    "import geopandas as geo"
   ]
  },
  {
   "cell_type": "code",
   "execution_count": 5,
   "id": "51f828f8-14df-49db-80f0-ab0c041f91f0",
   "metadata": {},
   "outputs": [
    {
     "name": "stdout",
     "output_type": "stream",
     "text": [
      "/Users/linhaohao/PycharmProjects/Geo/pythonProject/.venv/bin/python\n"
     ]
    }
   ],
   "source": [
    "import sys\n",
    "print(sys.executable)"
   ]
  },
  {
   "cell_type": "code",
   "execution_count": 6,
   "id": "e309121a-65dd-4e74-a591-fe216aa2b96d",
   "metadata": {},
   "outputs": [
    {
     "name": "stdout",
     "output_type": "stream",
     "text": [
      "/Library/Developer/CommandLineTools/Library/Frameworks/Python3.framework/Versions/3.9/lib/python39.zip\n",
      "/Library/Developer/CommandLineTools/Library/Frameworks/Python3.framework/Versions/3.9/lib/python3.9\n",
      "/Library/Developer/CommandLineTools/Library/Frameworks/Python3.framework/Versions/3.9/lib/python3.9/lib-dynload\n",
      "\n",
      "/Users/linhaohao/PycharmProjects/Geo/pythonProject/.venv/lib/python3.9/site-packages\n"
     ]
    }
   ],
   "source": [
    "import sys\n",
    "\n",
    "# 查看所有載入的路徑\n",
    "print(\"\\n\".join(sys.path))"
   ]
  },
  {
   "cell_type": "code",
   "execution_count": null,
   "id": "9d8e2c75-ee90-4e28-8195-01e418a395a2",
   "metadata": {},
   "outputs": [],
   "source": []
  }
 ],
 "metadata": {
  "kernelspec": {
   "display_name": "Python 3 (ipykernel)",
   "language": "python",
   "name": "python3"
  },
  "language_info": {
   "codemirror_mode": {
    "name": "ipython",
    "version": 3
   },
   "file_extension": ".py",
   "mimetype": "text/x-python",
   "name": "python",
   "nbconvert_exporter": "python",
   "pygments_lexer": "ipython3",
   "version": "3.9.6"
  }
 },
 "nbformat": 4,
 "nbformat_minor": 5
}
